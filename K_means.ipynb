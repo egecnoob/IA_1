{
  "nbformat": 4,
  "nbformat_minor": 0,
  "metadata": {
    "colab": {
      "provenance": [],
      "gpuType": "T4",
      "include_colab_link": true
    },
    "kernelspec": {
      "name": "python3",
      "display_name": "Python 3"
    },
    "language_info": {
      "name": "python"
    },
    "accelerator": "GPU"
  },
  "cells": [
    {
      "cell_type": "markdown",
      "metadata": {
        "id": "view-in-github",
        "colab_type": "text"
      },
      "source": [
        "<a href=\"https://colab.research.google.com/github/egecnoob/IA_1/blob/main/K_means.ipynb\" target=\"_parent\"><img src=\"https://colab.research.google.com/assets/colab-badge.svg\" alt=\"Open In Colab\"/></a>"
      ]
    },
    {
      "cell_type": "code",
      "execution_count": null,
      "metadata": {
        "id": "Y0ZU1lxlcahY"
      },
      "outputs": [],
      "source": [
        "# ------------------------------------------------------------\n",
        "# Título: Análisis de K-medias (K-means)\n",
        "# Autor: Adeptus Custodes\n",
        "# Descripción:\n",
        "#   - Carga un dataset CSV (Different_stores_data_V2.csv)\n",
        "#   - Explica principios, parámetros y desafíos de K-medias\n",
        "#   - Aplica métodos del codo e índice de silueta para elegir K óptimo\n",
        "#   - Visualiza clústeres usando PCA\n",
        "#   - Analiza centroides y características de cada clúster\n",
        "# ------------------------------------------------------------\n",
        "\n",
        "# ========================\n",
        "# 1. Importar bibliotecas\n",
        "# ========================\n",
        "import pandas as pd\n",
        "import numpy as np\n",
        "import matplotlib.pyplot as plt\n",
        "from sklearn.preprocessing import StandardScaler\n",
        "from sklearn.decomposition import PCA\n",
        "from sklearn.cluster import KMeans\n",
        "from sklearn.metrics import silhouette_score"
      ]
    },
    {
      "cell_type": "code",
      "source": [
        "# ========================\n",
        "# 2. Principio de K-medias\n",
        "# ========================\n",
        "# K-medias particiona los datos en K clústeres, donde cada punto pertenece al clúster\n",
        "# cuyo centroide (media aritmética de puntos en el clúster) es el más cercano.\n",
        "# El objetivo es minimizar la suma de las distancias al cuadrado entre cada punto y su centroide.\n",
        "\n",
        "# Parámetro clave:\n",
        "#   - K: número de clústeres deseados.\n",
        "\n",
        "# Desafíos comunes:\n",
        "#   1. ¿Cómo determinar un K óptimo?\n",
        "#       - Método del codo (Elbow Method): se grafica inercia (suma de distancias al cuadrado) vs. K\n",
        "#         y se busca un “codo” donde la mejora se estabiliza.\n",
        "#       - Método de la silueta (Silhouette): mide cuán bien separados están los clústeres.\n",
        "#         Valor entre -1 y 1; valores cercanos a 1 indican clústeres bien definidos.\n",
        "#   2. Sensibilidad a la inicialización de los centroides.\n",
        "#   3. Forma de los clústeres: K-medias tiende a formar clústeres esféricos (convexos),\n",
        "#      lo que puede no capturar formas complejas.\n"
      ],
      "metadata": {
        "id": "GjHzwkn1gOXp"
      },
      "execution_count": null,
      "outputs": []
    },
    {
      "cell_type": "code",
      "source": [
        "# ==================================================\n",
        "# 3. Cargar dataset y seleccionar características\n",
        "# ==================================================\n",
        "\n",
        "from google.colab import files\n",
        "# Para subir manualmente el archivo, descomenta la siguiente línea y usa el selector:\n",
        "# uploaded = files.upload()\n",
        "\n",
        "# Leer el CSV en un DataFrame de pandas\n",
        "df = pd.read_csv('Different_stores_data_V2.csv')\n",
        "\n",
        "# Mostrar las primeras filas para verificar carga\n",
        "print(\"Primeras filas del dataset original:\")\n",
        "print(df.head())\n",
        "\n",
        "# Selección de características numéricas relevantes para clustering\n",
        "features = ['age', 'quantity', 'selling_price_per_unit', 'total_profit']\n",
        "data = df[features]"
      ],
      "metadata": {
        "colab": {
          "base_uri": "https://localhost:8080/"
        },
        "id": "8DE922uWgXiP",
        "outputId": "a3f70a4b-b22b-45a5-bd8e-0abc8f6004e0"
      },
      "execution_count": null,
      "outputs": [
        {
          "output_type": "stream",
          "name": "stdout",
          "text": [
            "Primeras filas del dataset original:\n",
            "  invoice_no     invoice_date customer_id  gender  age  category  quantity  \\\n",
            "0    I138884  10/30/2016 9:58     C241288  Female   28  Clothing         5   \n",
            "1    I317333  10/30/2016 9:58     C111565    Male   21     Shoes         3   \n",
            "2    I127801  10/30/2016 9:58     C266599    Male   20  Clothing         1   \n",
            "3    I173702  10/30/2016 9:58     C988172  Female   66     Shoes         5   \n",
            "4    I337046  10/30/2016 9:59     C189076  Female   53     Books         4   \n",
            "\n",
            "   selling_price_per_unit  total_profit payment_method region       state  \\\n",
            "0                 1500.40       375.100    Credit Card  South    Kentucky   \n",
            "1                 1800.51       540.153     Debit Card  South    Kentucky   \n",
            "2                  300.08         5.020           Cash   West  California   \n",
            "3                 3000.85       500.425    Credit Card  South     Florida   \n",
            "4                   60.60        60.600           Cash  South     Florida   \n",
            "\n",
            "    shopping_mall  \n",
            "0          Kanyon  \n",
            "1  Viaport Outlet  \n",
            "2       Metrocity  \n",
            "3    Metropol AVM  \n",
            "4          Kanyon  \n"
          ]
        }
      ]
    },
    {
      "cell_type": "code",
      "source": [
        "# ==============================\n",
        "# 4. Escalado de características\n",
        "# ==============================\n",
        "# Escalar es importante para que todas las variables contribuyan de forma equivalente.\n",
        "scaler = StandardScaler()\n",
        "data_scaled = scaler.fit_transform(data)\n"
      ],
      "metadata": {
        "id": "RAErtLoqgbNH"
      },
      "execution_count": null,
      "outputs": []
    },
    {
      "cell_type": "code",
      "source": [
        "# =============================\n",
        "# 5. Método del Codo (Elbow)\n",
        "# =============================\n",
        "inertia = []\n",
        "k_range = range(1, 11)\n",
        "for k in k_range:\n",
        "    km = KMeans(n_clusters=k, random_state=42, n_init=10)\n",
        "    km.fit(data_scaled)\n",
        "    inertia.append(km.inertia_)\n",
        "\n",
        "# Graficar curva de inercia vs. K\n",
        "plt.figure(figsize=(8, 5))\n",
        "plt.plot(k_range, inertia, marker='o')\n",
        "plt.title('Método del Codo: Inercia vs. Número de Clústeres')\n",
        "plt.xlabel('Número de Clústeres (K)')\n",
        "plt.ylabel('Inercia (Suma de distancias al cuadrado)')\n",
        "plt.xticks(k_range)\n",
        "plt.grid(True)\n",
        "plt.show()\n"
      ],
      "metadata": {
        "colab": {
          "base_uri": "https://localhost:8080/",
          "height": 487
        },
        "id": "TjhxpiwMgf4O",
        "outputId": "f7efcb6c-5ebe-49d0-e317-019b3641d5cb"
      },
      "execution_count": null,
      "outputs": [
        {
          "output_type": "display_data",
          "data": {
            "text/plain": [
              "<Figure size 800x500 with 1 Axes>"
            ],
            "image/png": "[encoded data removed]"
          },
          "metadata": {}
        }
      ]
    },
    {
      "cell_type": "code",
      "source": [
        "# ===============================\n",
        "# 6. Método de la Silueta\n",
        "# ===============================\n",
        "silhouette_scores = []\n",
        "k_range_sil = range(2, 11)  # Silueta no está definida para K=1\n",
        "for k in k_range_sil:\n",
        "    km = KMeans(n_clusters=k, random_state=42, n_init=10)\n",
        "    labels = km.fit_predict(data_scaled)\n",
        "    score = silhouette_score(data_scaled, labels)\n",
        "    silhouette_scores.append(score)\n",
        "\n",
        "# Graficar puntuación de silueta vs. K\n",
        "plt.figure(figsize=(8, 5))\n",
        "plt.plot(k_range_sil, silhouette_scores, marker='o', color='orange')\n",
        "plt.title('Método de la Silueta: Puntuación vs. Número de Clústeres')\n",
        "plt.xlabel('Número de Clústeres (K)')\n",
        "plt.ylabel('Puntuación de Silueta')\n",
        "plt.xticks(k_range_sil)\n",
        "plt.grid(True)\n",
        "plt.show()\n"
      ],
      "metadata": {
        "id": "-JADmxaAgifw"
      },
      "execution_count": null,
      "outputs": []
    },
    {
      "cell_type": "code",
      "source": [
        "# ===================================\n",
        "# 7. Ajuste final con K óptimo (Ej.)\n",
        "# ===================================\n",
        "# Basándonos en los dos métodos anteriores, supongamos que el valor óptimo es K=4.\n",
        "optimal_k = 4\n",
        "kmeans = KMeans(n_clusters=optimal_k, random_state=42, n_init=10)\n",
        "cluster_labels = kmeans.fit_predict(data_scaled)\n",
        "\n",
        "# Agregar etiquetas de clúster al DataFrame original\n",
        "df['cluster'] = cluster_labels\n"
      ],
      "metadata": {
        "id": "NyX6VEmlgma3"
      },
      "execution_count": null,
      "outputs": []
    },
    {
      "cell_type": "code",
      "source": [
        "\n",
        "# ================================\n",
        "# 8. Visualización en 2D con PCA\n",
        "# ================================\n",
        "# Reducir a 2 dimensiones para graficar\n",
        "pca = PCA(n_components=2, random_state=42)\n",
        "data_pca = pca.fit_transform(data_scaled)\n",
        "\n",
        "plt.figure(figsize=(8, 6))\n",
        "for cluster in range(optimal_k):\n",
        "    idx = df['cluster'] == cluster\n",
        "    plt.scatter(data_pca[idx, 0], data_pca[idx, 1], label=f'Clúster {cluster}', alpha=0.6)\n",
        "plt.title('Visualización de Clústeres en 2D (PCA)')\n",
        "plt.xlabel('Componente Principal 1')\n",
        "plt.ylabel('Componente Principal 2')\n",
        "plt.legend()\n",
        "plt.grid(True)\n",
        "plt.show()\n"
      ],
      "metadata": {
        "id": "r90JNn1VgpxX"
      },
      "execution_count": null,
      "outputs": []
    },
    {
      "cell_type": "code",
      "source": [
        "\n",
        "# ================================\n",
        "# 9. Análisis de los Centroides\n",
        "# ================================\n",
        "# Convertir centroides al espacio original (desescalar)\n",
        "centroids_original = scaler.inverse_transform(kmeans.cluster_centers_)\n",
        "centroid_df = pd.DataFrame(centroids_original, columns=features)\n",
        "centroid_df['cluster'] = range(optimal_k)\n",
        "\n",
        "print(\"Centroides de Clúster en el espacio de características original:\")\n",
        "print(centroid_df)\n"
      ],
      "metadata": {
        "id": "PwL2tSiCgsIX"
      },
      "execution_count": null,
      "outputs": []
    },
    {
      "cell_type": "code",
      "source": [
        "\n",
        "# ====================================\n",
        "# 10. Tamaño de cada clúster\n",
        "# ====================================\n",
        "cluster_counts = df['cluster'].value_counts().sort_index()\n",
        "cluster_counts_df = pd.DataFrame({'cluster': cluster_counts.index, 'count': cluster_counts.values})\n",
        "\n",
        "print(\"Número de puntos en cada clúster:\")\n",
        "print(cluster_counts_df)\n"
      ],
      "metadata": {
        "id": "d7elsQIXgt6f"
      },
      "execution_count": null,
      "outputs": []
    },
    {
      "cell_type": "code",
      "source": [
        "\n",
        "# ====================================\n",
        "# 11. Promedios de características por clúster\n",
        "# ====================================\n",
        "cluster_means = df.groupby('cluster')[features].mean().reset_index()\n",
        "print(\"Promedios de características por cada clúster:\")\n",
        "print(cluster_means)\n"
      ],
      "metadata": {
        "id": "zzzuTTwagvfW"
      },
      "execution_count": null,
      "outputs": []
    },
    {
      "cell_type": "code",
      "source": [
        "\n",
        "# ====================================\n",
        "# 12. Inspección adicional (opcional)\n",
        "# ====================================\n",
        "# Aquí puedes agregar inspecciones más detalladas, gráficos de barras, etc.\n",
        "# Por ejemplo: comparativa de la media de 'total_profit' entre clústeres\n",
        "plt.figure(figsize=(6, 4))\n",
        "plt.bar(cluster_means['cluster'], cluster_means['total_profit'])\n",
        "plt.title('Total Profit Promedio por Clúster')\n",
        "plt.xlabel('Clúster')\n",
        "plt.ylabel('Total Profit Promedio')\n",
        "plt.grid(axis='y')\n",
        "plt.show()\n"
      ],
      "metadata": {
        "id": "A5qYry23gw43"
      },
      "execution_count": null,
      "outputs": []
    }
  ]
}