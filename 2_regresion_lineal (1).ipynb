{
  "nbformat": 4,
  "nbformat_minor": 0,
  "metadata": {
    "colab": {
      "provenance": []
    },
    "kernelspec": {
      "name": "python3",
      "display_name": "Python 3"
    },
    "language_info": {
      "name": "python"
    }
  },
  "cells": [
    {
      "cell_type": "markdown",
      "source": [
        "Modelo de Machine Learning - Regresión Lineal  \n",
        "\n",
        "La regresión lineal es un método de aprendizaje automático supervisado utilizado por la herramienta Entrenar con AutoML y busca una ecuación lineal que describe mejor la correlación de las variables explicativas con la variable dependiente. Se logra ajustando una línea a los datos mediante mínimos cuadrados."
      ],
      "metadata": {
        "id": "FoAUS3X4Qn0F"
      }
    },
    {
      "cell_type": "code",
      "execution_count": null,
      "metadata": {
        "id": "ZxxmTl9p8cs_",
        "colab": {
          "base_uri": "https://localhost:8080/"
        },
        "outputId": "e69b3c1a-b6a6-48f6-ff6c-6cb6191887eb"
      },
      "outputs": [
        {
          "output_type": "stream",
          "name": "stdout",
          "text": [
            "Cabecera del dataset:\n",
            "   Id  MSSubClass MSZoning  LotFrontage  LotArea Street Alley LotShape  \\\n",
            "0   1          60       RL         65.0     8450   Pave   NaN      Reg   \n",
            "1   2          20       RL         80.0     9600   Pave   NaN      Reg   \n",
            "2   3          60       RL         68.0    11250   Pave   NaN      IR1   \n",
            "3   4          70       RL         60.0     9550   Pave   NaN      IR1   \n",
            "4   5          60       RL         84.0    14260   Pave   NaN      IR1   \n",
            "\n",
            "  LandContour Utilities  ... PoolArea PoolQC Fence MiscFeature MiscVal MoSold  \\\n",
            "0         Lvl    AllPub  ...        0    NaN   NaN         NaN       0      2   \n",
            "1         Lvl    AllPub  ...        0    NaN   NaN         NaN       0      5   \n",
            "2         Lvl    AllPub  ...        0    NaN   NaN         NaN       0      9   \n",
            "3         Lvl    AllPub  ...        0    NaN   NaN         NaN       0      2   \n",
            "4         Lvl    AllPub  ...        0    NaN   NaN         NaN       0     12   \n",
            "\n",
            "  YrSold  SaleType  SaleCondition  SalePrice  \n",
            "0   2008        WD         Normal     208500  \n",
            "1   2007        WD         Normal     181500  \n",
            "2   2008        WD         Normal     223500  \n",
            "3   2006        WD        Abnorml     140000  \n",
            "4   2008        WD         Normal     250000  \n",
            "\n",
            "[5 rows x 81 columns]\n",
            "Error cuadrático medio (MSE): 6901043058.999415\n",
            "Coeficiente de determinación (R^2): 0.1002934070088034\n"
          ]
        }
      ],
      "source": [
        "import pandas as pd\n",
        "from sklearn.impute import SimpleImputer\n",
        "from sklearn.linear_model import LinearRegression\n",
        "from sklearn.metrics import mean_squared_error, r2_score\n",
        "\n",
        "# Cargar el CSV de entrenamiento\n",
        "train_df = pd.read_csv('train.csv')\n",
        "\n",
        "# Imprimir la cabecera del conjunto de entrenamiento original\n",
        "print(\"Cabecera de train.csv:\")\n",
        "print(train_df.head())\n",
        "\n",
        "# Eliminar la columna 'Id' (si existe) ya que no se usará para el modelado\n",
        "if 'Id' in train_df.columns:\n",
        "    train_df.drop('Id', axis=1, inplace=True)\n",
        "\n",
        "# Separar columnas numéricas y categóricas\n",
        "num_cols = train_df.select_dtypes(include=['int64', 'float64']).columns\n",
        "cat_cols = train_df.select_dtypes(include=['object']).columns\n",
        "\n",
        "# Imputar valores faltantes:\n",
        "# Para las variables numéricas se usa la media\n",
        "train_df[num_cols] = train_df[num_cols].fillna(train_df[num_cols].mean())\n",
        "# Para las variables categóricas se reemplazan los NaN por \"Missing\"\n",
        "train_df[cat_cols] = train_df[cat_cols].fillna(\"Missing\")\n",
        "\n",
        "# Convertir variables categóricas a variables dummy (one-hot encoding)\n",
        "# Se utiliza drop_first=True para evitar la multicolinealidad\n",
        "train_df = pd.get_dummies(train_df, drop_first=True)\n",
        "\n",
        "# Imprimir la cabecera del conjunto de entrenamiento preprocesado\n",
        "print(\"\\nCabecera de train_df preprocesado:\")\n",
        "print(train_df.head())\n",
        "\n",
        "# Separar la variable dependiente 'SalePrice' de las independientes\n",
        "X_train_full = train_df.drop('SalePrice', axis=1)\n",
        "y_train = train_df['SalePrice']\n",
        "\n",
        "# Crear y ajustar un imputador sobre X_train_full (en caso de que aún queden NaN)\n",
        "imputer = SimpleImputer(strategy='mean')\n",
        "X_train_imputed = pd.DataFrame(imputer.fit_transform(X_train_full),\n",
        "                               columns=X_train_full.columns)\n",
        "\n",
        "# (Opcional) Puedes dividir en entrenamiento/validación para evaluar el modelo\n",
        "#from sklearn.model_selection import train_test_split\n",
        "#X_train_split, X_val, y_train_split, y_val = train_test_split(X_train_imputed, y_train,\n",
        "#                                                              test_size=0.2,\n",
        "#                                                              random_state=42)\n",
        "\n",
        "# Entrenar el modelo con todos los datos de entrenamiento\n",
        "modelo = LinearRegression()\n",
        "modelo.fit(X_train_imputed, y_train)\n",
        "\n",
        "# Evaluar el modelo en el conjunto de entrenamiento (o validación si se ha dividido)\n",
        "y_train_pred = modelo.predict(X_train_imputed)\n",
        "print(\"\\nMSE en entrenamiento:\", mean_squared_error(y_train, y_train_pred))\n",
        "print(\"R² en entrenamiento:\", r2_score(y_train, y_train_pred))\n"
      ]
    },
    {
      "cell_type": "code",
      "source": [
        "import pandas as pd\n",
        "import seaborn as sns\n",
        "import matplotlib.pyplot as plt\n",
        "from sklearn.impute import SimpleImputer\n",
        "\n",
        "# 1. Cargar el archivo test.csv\n",
        "data_test = pd.read_csv('test.csv')\n",
        "\n",
        "# 2. Eliminar la columna 'Id' si existe\n",
        "if 'Id' in data_test.columns:\n",
        "    data_test = data_test.drop('Id', axis=1)\n",
        "\n",
        "# 3. Manejar valores faltantes: para numéricas y categóricas, igual que en el entrenamiento\n",
        "num_cols_test = data_test.select_dtypes(include=['int64', 'float64']).columns\n",
        "cat_cols_test = data_test.select_dtypes(include=['object']).columns\n",
        "\n",
        "data_test[num_cols_test] = data_test[num_cols_test].fillna(data_test[num_cols_test].mean())\n",
        "data_test[cat_cols_test] = data_test[cat_cols_test].fillna(\"Missing\")\n",
        "\n",
        "# 4. Convertir variables categóricas a variables dummy\n",
        "data_test_dummies = pd.get_dummies(data_test, drop_first=True)\n",
        "\n",
        "# 5. Alinear las columnas del test con las del entrenamiento\n",
        "# Aquí X.columns corresponde a las columnas del DataFrame X que se usó en el entrenamiento (después de dummies)\n",
        "data_test_dummies = data_test_dummies.reindex(columns=X.columns, fill_value=0)\n",
        "\n",
        "# 6. Aplicar el imputador entrenado (no crear uno nuevo)\n",
        "data_test_imputed = pd.DataFrame(imputer.transform(data_test_dummies),\n",
        "                                 columns=data_test_dummies.columns)\n",
        "\n",
        "# 7. Realizar las predicciones con el modelo entrenado\n",
        "predicciones = modelo.predict(data_test_imputed)\n",
        "\n",
        "# 8. Agregar las predicciones al DataFrame test y visualizarlas\n",
        "data_test['PredictedSalePrice'] = predicciones\n",
        "print(data_test[['PredictedSalePrice']].head())\n",
        "\n",
        "# Opcional: visualizar la distribución de las predicciones\n",
        "sns.histplot(predicciones, kde=True, color=\"blue\")\n",
        "plt.title(\"Distribución de predicciones de SalePrice\")\n",
        "plt.xlabel(\"SalePrice\")\n",
        "plt.show()\n"
      ],
      "metadata": {
        "id": "YQ1JAD09_Nx3",
        "colab": {
          "base_uri": "https://localhost:8080/",
          "height": 576
        },
        "outputId": "5a99fbe9-c294-4be7-b2b3-5a36a7605abf"
      },
      "execution_count": null,
      "outputs": [
        {
          "output_type": "stream",
          "name": "stdout",
          "text": [
            "   PredictedSalePrice\n",
            "0        1.078931e+06\n",
            "1        1.110491e+06\n",
            "2        1.143380e+06\n",
            "3        1.148901e+06\n",
            "4        1.168806e+06\n"
          ]
        },
        {
          "output_type": "display_data",
          "data": {
            "text/plain": [
              "<Figure size 640x480 with 1 Axes>"
            ],
            "image/png": "[encoded data removed]"
          },
          "metadata": {}
        }
      ]
    },
    {
      "cell_type": "code",
      "source": [
        "# Cargar el CSV de test\n",
        "test_df = pd.read_csv('test.csv')\n",
        "\n",
        "# Imprimir la cabecera del conjunto de test original\n",
        "print(\"\\nCabecera de test.csv:\")\n",
        "print(test_df.head())\n",
        "\n",
        "# Eliminar la columna 'Id' (si existe)\n",
        "if 'Id' in test_df.columns:\n",
        "    test_df.drop('Id', axis=1, inplace=True)\n",
        "\n",
        "# Identificar columnas numéricas y categóricas en el test\n",
        "num_cols_test = test_df.select_dtypes(include=['int64', 'float64']).columns\n",
        "cat_cols_test = test_df.select_dtypes(include=['object']).columns\n",
        "\n",
        "# Imputar valores faltantes en el test:\n",
        "test_df[num_cols_test] = test_df[num_cols_test].fillna(test_df[num_cols_test].mean())\n",
        "test_df[cat_cols_test] = test_df[cat_cols_test].fillna(\"Missing\")\n",
        "\n",
        "# Convertir variables categóricas a variables dummy\n",
        "test_df = pd.get_dummies(test_df, drop_first=True)\n",
        "\n",
        "# Imprimir la cabecera del test después de convertir a dummies\n",
        "print(\"\\nCabecera de test_df preprocesado (antes de alinear columnas):\")\n",
        "print(test_df.head())\n"
      ],
      "metadata": {
        "id": "sbKTcDT5_aCC"
      },
      "execution_count": null,
      "outputs": []
    },
    {
      "cell_type": "code",
      "source": [],
      "metadata": {
        "id": "oaeNq3gYAC_R"
      },
      "execution_count": null,
      "outputs": []
    }
  ]
}